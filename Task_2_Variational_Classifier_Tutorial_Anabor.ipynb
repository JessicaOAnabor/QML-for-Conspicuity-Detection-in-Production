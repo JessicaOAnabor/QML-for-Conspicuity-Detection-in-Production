{
  "nbformat": 4,
  "nbformat_minor": 0,
  "metadata": {
    "colab": {
      "provenance": []
    },
    "kernelspec": {
      "name": "python3",
      "display_name": "Python 3"
    },
    "language_info": {
      "name": "python"
    }
  },
  "cells": [
    {
      "cell_type": "markdown",
      "source": [
        "## PENNYLANE VARIATIONAL CLASSIFIER TUTORIAL WALKTHROUGH\n",
        "## BY: JESSICA OMUNA ANABOR\n",
        "## For: TEAM QuANSA"
      ],
      "metadata": {
        "id": "9K52YEUZgxBU"
      }
    },
    {
      "cell_type": "markdown",
      "source": [
        "**What the below code does**:\n",
        "\n",
        "*import pennylane as qml*: Imports the PennyLane library and allows you to refer to it using the alias qml.\n",
        "\n",
        "*from pennylane import numpy as np*: Imports the NumPy module from PennyLane with the alias np, which enables the use of NumPy functions.\n",
        "\n",
        "*from pennylane.optimize import NesterovMomentumOptimizer*: Imports the Nesterov Momentum Optimizer class from the optimize module of PennyLane, which can be used for optimizing quantum circuits."
      ],
      "metadata": {
        "id": "VyyP3qy-qK9q"
      }
    },
    {
      "cell_type": "code",
      "execution_count": null,
      "metadata": {
        "colab": {
          "base_uri": "https://localhost:8080/"
        },
        "id": "wQQgwbLsoqvQ",
        "outputId": "cae027a1-051b-4051-b0f6-188b8107993b"
      },
      "outputs": [
        {
          "output_type": "stream",
          "name": "stdout",
          "text": [
            "Collecting pennylane\n",
            "  Downloading PennyLane-0.37.0-py3-none-any.whl (1.8 MB)\n",
            "\u001b[2K     \u001b[90m━━━━━━━━━━━━━━━━━━━━━━━━━━━━━━━━━━━━━━━━\u001b[0m \u001b[32m1.8/1.8 MB\u001b[0m \u001b[31m9.6 MB/s\u001b[0m eta \u001b[36m0:00:00\u001b[0m\n",
            "\u001b[?25hRequirement already satisfied: numpy<2.0 in /usr/local/lib/python3.10/dist-packages (from pennylane) (1.25.2)\n",
            "Requirement already satisfied: scipy in /usr/local/lib/python3.10/dist-packages (from pennylane) (1.11.4)\n",
            "Requirement already satisfied: networkx in /usr/local/lib/python3.10/dist-packages (from pennylane) (3.3)\n",
            "Collecting rustworkx (from pennylane)\n",
            "  Downloading rustworkx-0.15.1-cp38-abi3-manylinux_2_17_x86_64.manylinux2014_x86_64.whl (2.0 MB)\n",
            "\u001b[2K     \u001b[90m━━━━━━━━━━━━━━━━━━━━━━━━━━━━━━━━━━━━━━━━\u001b[0m \u001b[32m2.0/2.0 MB\u001b[0m \u001b[31m19.8 MB/s\u001b[0m eta \u001b[36m0:00:00\u001b[0m\n",
            "\u001b[?25hRequirement already satisfied: autograd in /usr/local/lib/python3.10/dist-packages (from pennylane) (1.6.2)\n",
            "Requirement already satisfied: toml in /usr/local/lib/python3.10/dist-packages (from pennylane) (0.10.2)\n",
            "Collecting appdirs (from pennylane)\n",
            "  Downloading appdirs-1.4.4-py2.py3-none-any.whl (9.6 kB)\n",
            "Collecting semantic-version>=2.7 (from pennylane)\n",
            "  Downloading semantic_version-2.10.0-py2.py3-none-any.whl (15 kB)\n",
            "Collecting autoray>=0.6.11 (from pennylane)\n",
            "  Downloading autoray-0.6.12-py3-none-any.whl (50 kB)\n",
            "\u001b[2K     \u001b[90m━━━━━━━━━━━━━━━━━━━━━━━━━━━━━━━━━━━━━━━━\u001b[0m \u001b[32m51.0/51.0 kB\u001b[0m \u001b[31m7.9 MB/s\u001b[0m eta \u001b[36m0:00:00\u001b[0m\n",
            "\u001b[?25hRequirement already satisfied: cachetools in /usr/local/lib/python3.10/dist-packages (from pennylane) (5.3.3)\n",
            "Collecting pennylane-lightning>=0.37 (from pennylane)\n",
            "  Downloading PennyLane_Lightning-0.37.0-cp310-cp310-manylinux_2_28_x86_64.whl (15.5 MB)\n",
            "\u001b[2K     \u001b[90m━━━━━━━━━━━━━━━━━━━━━━━━━━━━━━━━━━━━━━━━\u001b[0m \u001b[32m15.5/15.5 MB\u001b[0m \u001b[31m53.6 MB/s\u001b[0m eta \u001b[36m0:00:00\u001b[0m\n",
            "\u001b[?25hRequirement already satisfied: requests in /usr/local/lib/python3.10/dist-packages (from pennylane) (2.31.0)\n",
            "Requirement already satisfied: typing-extensions in /usr/local/lib/python3.10/dist-packages (from pennylane) (4.12.2)\n",
            "Requirement already satisfied: packaging in /usr/local/lib/python3.10/dist-packages (from pennylane) (24.1)\n",
            "Requirement already satisfied: future>=0.15.2 in /usr/local/lib/python3.10/dist-packages (from autograd->pennylane) (0.18.3)\n",
            "Requirement already satisfied: charset-normalizer<4,>=2 in /usr/local/lib/python3.10/dist-packages (from requests->pennylane) (3.3.2)\n",
            "Requirement already satisfied: idna<4,>=2.5 in /usr/local/lib/python3.10/dist-packages (from requests->pennylane) (3.7)\n",
            "Requirement already satisfied: urllib3<3,>=1.21.1 in /usr/local/lib/python3.10/dist-packages (from requests->pennylane) (2.0.7)\n",
            "Requirement already satisfied: certifi>=2017.4.17 in /usr/local/lib/python3.10/dist-packages (from requests->pennylane) (2024.7.4)\n",
            "Installing collected packages: appdirs, semantic-version, rustworkx, autoray, pennylane-lightning, pennylane\n",
            "Successfully installed appdirs-1.4.4 autoray-0.6.12 pennylane-0.37.0 pennylane-lightning-0.37.0 rustworkx-0.15.1 semantic-version-2.10.0\n"
          ]
        }
      ],
      "source": [
        "!pip install pennylane\n",
        "import pennylane as qml\n",
        "from pennylane import numpy as np\n",
        "from pennylane.optimize import NesterovMomentumOptimizer"
      ]
    },
    {
      "cell_type": "markdown",
      "source": [
        "**What the below code does**:\n",
        "\n",
        "Creates a quantum device object named *dev* using the *qml.device()* function.\n",
        "\n",
        "The device is initialized with the configuration '*default.qubit*', indicating that the device is set up to simulate quantum computations on a default qubit simulator."
      ],
      "metadata": {
        "id": "a4AAPubsraBR"
      }
    },
    {
      "cell_type": "code",
      "source": [
        "dev = qml.device(\"default.qubit\")"
      ],
      "metadata": {
        "id": "YlHLYUDGrRoZ"
      },
      "execution_count": null,
      "outputs": []
    },
    {
      "cell_type": "markdown",
      "source": [
        "**What the below code does**:\n",
        "\n",
        "A function named *layer* is defined, which takes *layer_weights* as its input. Within the function, it loops through 4 wires and applies a rotational gate *qml.Rot* to each wire using the corresponding set of weights from layer_weights. Following this, it applies Controlled-NOT (*CNOT*) gates between specific pairs of wires as specified in the list of wire pairs.\n",
        "\n",
        "In order to be unpacked as individual arguments when passing the wires to *qml.CNOT* function, asterisks (*) have been added."
      ],
      "metadata": {
        "id": "rhdd96rCsf61"
      }
    },
    {
      "cell_type": "code",
      "source": [
        "def layer(layer_weights):\n",
        "    for wire in range(4):\n",
        "        qml.Rot(*layer_weights[wire], wires=wire)\n",
        "\n",
        "    for wires in ([0, 1], [1, 2], [2, 3], [3, 0]):\n",
        "        qml.CNOT(*wires)"
      ],
      "metadata": {
        "id": "K0cf81ogr9Pv"
      },
      "execution_count": null,
      "outputs": []
    },
    {
      "cell_type": "markdown",
      "source": [
        "**What the below code does**:\n",
        "\n",
        "Creates a function named *state_preparation* which accepts an argument *x*. Within this function, the quantum state is prepared utilizing the *qml.BasisState()* function. This function is employed to set up a quantum state defined by the binary form of the integer *x* on the designated *wires* specified in the wires parameter, represented by an array that includes the wire indices [0, 1, 2, 3]."
      ],
      "metadata": {
        "id": "Sn4T7ytMtxWp"
      }
    },
    {
      "cell_type": "code",
      "source": [
        "def state_preparation(x):\n",
        "    qml.BasisState(x, wires=[0, 1, 2, 3])"
      ],
      "metadata": {
        "id": "ejnqkuafte7U"
      },
      "execution_count": null,
      "outputs": []
    },
    {
      "cell_type": "markdown",
      "source": [
        "**What the below code does**:\n",
        "\n",
        " Create a quantum circuit function called *circuit* which takes *weights* and *x* as arguments. Utilize the *state_preparation* function with *x* as input to set up the quantum state. Proceed to loop through the *weights* list, invoking the *layer* function for each *layer_weights*. Ultimately, output the anticipated value of the Pauli-Z operator on qubit 0."
      ],
      "metadata": {
        "id": "I13Do9fIuhez"
      }
    },
    {
      "cell_type": "code",
      "source": [
        "@qml.qnode(dev)\n",
        "def circuit(weights, x):\n",
        "    state_preparation(x)\n",
        "\n",
        "    for layer_weights in weights:\n",
        "        layer(layer_weights)\n",
        "\n",
        "    return qml.expval(qml.PauliZ(0))"
      ],
      "metadata": {
        "id": "SQjYkn70uJc6"
      },
      "execution_count": null,
      "outputs": []
    },
    {
      "cell_type": "markdown",
      "source": [
        "**What the below code does**:\n",
        "\n",
        "Defines a Python function called *variational_classifier* which accepts *weights*, *bias*, and *x* as parameters. The function should compute the circuit function on *weights* and *x*, then add *bias* to the result before returning it."
      ],
      "metadata": {
        "id": "yvhiT9x0vS1G"
      }
    },
    {
      "cell_type": "code",
      "source": [
        "def variational_classifier(weights, bias, x):\n",
        "    return circuit(weights, x) + bias"
      ],
      "metadata": {
        "id": "9lVydVFsu9dk"
      },
      "execution_count": null,
      "outputs": []
    },
    {
      "cell_type": "markdown",
      "source": [
        "**What the below code does**:\n",
        "\n",
        "1. Prepares the `predictions` array for direct subtraction with the `labels` array using `qml.math.stack(predictions)`.\n",
        "\n",
        "2. Performs element-wise subtraction between each element of the `labels` array and the corresponding element of the `predictions` array by `labels - qml.math.stack(predictions)`, resulting in an array of errors for each prediction.\n",
        "\n",
        "3. Squares each error calculated in the previous step with `(labels - qml.math.stack(predictions)) ** 2`.\n",
        "\n",
        "4. Calculates the mean (average) of all squared errors with `np.mean((labels - qml.math.stack(predictions)) ** 2)`, representing the overall error of the model predictions compared to the true labels."
      ],
      "metadata": {
        "id": "yzH-N9J2wlX_"
      }
    },
    {
      "cell_type": "code",
      "source": [
        "def square_loss(labels, predictions):\n",
        "    # We use a call to qml.math.stack to allow subtracting the arrays directly\n",
        "    return np.mean((labels - qml.math.stack(predictions)) ** 2)"
      ],
      "metadata": {
        "id": "saMYC8xkvmb9"
      },
      "execution_count": null,
      "outputs": []
    },
    {
      "cell_type": "markdown",
      "source": [
        "**What the below code does**:\n",
        "\n",
        "The function *accuracy* is defined to compute the accuracy between actual labels and predicted values. The function takes *labels* and *predictions* as input parameters. By using *zip(labels, predictions)*, corresponding elements from labels and predictions are paired into tuples. The sum of 1's is calculated where the absolute difference between *l (label)* and *p (prediction)* is less than 1e-5. This sum is then divided by the length of the labels to obtain the final accuracy value. Finally, the function returns the calculated accuracy value."
      ],
      "metadata": {
        "id": "qziBIiyOxXkx"
      }
    },
    {
      "cell_type": "code",
      "source": [
        "def accuracy(labels, predictions):\n",
        "    acc = sum(abs(l - p) < 1e-5 for l, p in zip(labels, predictions))\n",
        "    acc = acc / len(labels)\n",
        "    return acc"
      ],
      "metadata": {
        "id": "Q3hM-99qxCDs"
      },
      "execution_count": null,
      "outputs": []
    },
    {
      "cell_type": "markdown",
      "source": [
        "**What the code below does**:\n",
        "\n",
        "Defines a function called *cost* with four parameters: *weights*, *bias*, *X*, and *Y*. In the function, make predictions by using a variational classifier on each element *x* in the input list X. Use the predictions to calculate the square loss between the actual values *Y* and the predicted values. Finally, it returns the calculated square loss."
      ],
      "metadata": {
        "id": "QqnP5WBiyS6e"
      }
    },
    {
      "cell_type": "code",
      "source": [
        "def cost(weights, bias, X, Y):\n",
        "    predictions = [variational_classifier(weights, bias, x) for x in X]\n",
        "    return square_loss(Y, predictions)"
      ],
      "metadata": {
        "id": "kZ7ca9JnyMiL"
      },
      "execution_count": null,
      "outputs": []
    },
    {
      "cell_type": "code",
      "source": [
        "from google.colab import drive\n",
        "drive.mount(\"/content/drive\")"
      ],
      "metadata": {
        "colab": {
          "base_uri": "https://localhost:8080/"
        },
        "id": "6SiThWAoy-aL",
        "outputId": "4a07cfce-ab2a-4438-9f1f-e73a1b0863d0"
      },
      "execution_count": null,
      "outputs": [
        {
          "output_type": "stream",
          "name": "stdout",
          "text": [
            "Mounted at /content/drive\n"
          ]
        }
      ]
    },
    {
      "cell_type": "code",
      "source": [
        "!pwd"
      ],
      "metadata": {
        "colab": {
          "base_uri": "https://localhost:8080/"
        },
        "id": "-BkTHJU-A3Pr",
        "outputId": "f318c17a-2f47-4c25-fd0d-f6dd40602e44"
      },
      "execution_count": null,
      "outputs": [
        {
          "output_type": "stream",
          "name": "stdout",
          "text": [
            "/content\n"
          ]
        }
      ]
    },
    {
      "cell_type": "code",
      "source": [
        "!ls /content/drive/MyDrive/ISS"
      ],
      "metadata": {
        "colab": {
          "base_uri": "https://localhost:8080/"
        },
        "id": "nrbdPwBJBBpF",
        "outputId": "f5b38c92-b54b-4f13-c520-3ae61c6c56ec"
      },
      "execution_count": null,
      "outputs": [
        {
          "output_type": "stream",
          "name": "stdout",
          "text": [
            "/content/drive/MyDrive/variational_classifier/data/parity_test.txt\n"
          ]
        }
      ]
    },
    {
      "cell_type": "code",
      "source": [
        "import numpy as np\n",
        "data = np.loadtxt(\"/content/drive/MyDrive/variational_classifier/data/parity_train.txt\")"
      ],
      "metadata": {
        "id": "goX-HnT1CwMr"
      },
      "execution_count": null,
      "outputs": []
    },
    {
      "cell_type": "markdown",
      "source": [
        "**What the below code does**:\n",
        "\n",
        "Loads integer data from a text file called '*parity_train.txt*' with the help of NumPy's *loadtxt()* function. Next, we divide the features into array *X* and the labels into array *Y*. The labels are adjusted from {0, 1} to {-1, 1} through scaling. Lastly, loop through each feature x and label y pair using the *zip()* function and display them in a formatted string using an f-string."
      ],
      "metadata": {
        "id": "4egDPzVREFw1"
      }
    },
    {
      "cell_type": "code",
      "source": [
        "data = np.loadtxt(\"/content/drive/MyDrive/variational_classifier/data/parity_train.txt\", dtype=int)\n",
        "X = np.array(data[:, :-1])\n",
        "Y = np.array(data[:, -1])\n",
        "Y = Y * 2 - 1  # shift label from {0, 1} to {-1, 1}\n",
        "\n",
        "for x,y in zip(X, Y):\n",
        "    print(f\"x = {x}, y = {y}\")"
      ],
      "metadata": {
        "colab": {
          "base_uri": "https://localhost:8080/"
        },
        "id": "hhilvnaZDybq",
        "outputId": "0c81fdaa-440a-47ef-bbf1-d5234c372277"
      },
      "execution_count": null,
      "outputs": [
        {
          "output_type": "stream",
          "name": "stdout",
          "text": [
            "x = [0 0 0 1], y = 1\n",
            "x = [0 0 1 0], y = 1\n",
            "x = [0 1 0 0], y = 1\n",
            "x = [0 1 0 1], y = -1\n",
            "x = [0 1 1 0], y = -1\n",
            "x = [0 1 1 1], y = 1\n",
            "x = [1 0 0 0], y = 1\n",
            "x = [1 0 0 1], y = -1\n",
            "x = [1 0 1 1], y = 1\n",
            "x = [1 1 1 1], y = -1\n"
          ]
        }
      ]
    },
    {
      "cell_type": "markdown",
      "source": [
        "**What the code below does**:\n",
        "\n",
        "Imported the NumPy library using the alias *np*.\n",
        "\n",
        "Set the random seed to 0 for consistent random number generation.\n",
        "\n",
        "Specified 4 qubits and 2 layers.\n",
        "\n",
        "Initialized weights with random numbers scaled by 0.01 for each qubit and layer.\n",
        "\n",
        "Initialized bias with a single value of 0.0.\n",
        "\n",
        "Displayed the weights and bias.\n",
        "\n",
        "**Be Aware**: There was a syntax error with *requires_grad=True* which is not a valid argument in this context. This error has been fixed"
      ],
      "metadata": {
        "id": "v3TTRHHuFHmY"
      }
    },
    {
      "cell_type": "code",
      "source": [
        "import numpy as np\n",
        "\n",
        "np.random.seed(0)\n",
        "num_qubits = 4\n",
        "num_layers = 2\n",
        "weights_init = 0.01 * np.random.randn(num_layers, num_qubits, 3)\n",
        "bias_init = np.array(0.0)\n",
        "\n",
        "print('Weights:', weights_init)\n",
        "print('Bias:', bias_init)"
      ],
      "metadata": {
        "colab": {
          "base_uri": "https://localhost:8080/"
        },
        "id": "H4O5oyHCEtRD",
        "outputId": "a16c1904-b9ac-4ac9-aae5-29ef7baecc50"
      },
      "execution_count": null,
      "outputs": [
        {
          "output_type": "stream",
          "name": "stdout",
          "text": [
            "Weights: [[[ 0.01764052  0.00400157  0.00978738]\n",
            "  [ 0.02240893  0.01867558 -0.00977278]\n",
            "  [ 0.00950088 -0.00151357 -0.00103219]\n",
            "  [ 0.00410599  0.00144044  0.01454274]]\n",
            "\n",
            " [[ 0.00761038  0.00121675  0.00443863]\n",
            "  [ 0.00333674  0.01494079 -0.00205158]\n",
            "  [ 0.00313068 -0.00854096 -0.0255299 ]\n",
            "  [ 0.00653619  0.00864436 -0.00742165]]]\n",
            "Bias: 0.0\n"
          ]
        }
      ]
    },
    {
      "cell_type": "markdown",
      "source": [
        "**What the code below does**:\n",
        "\n",
        "Develops an optimizer, which is a version of gradient descent commonly utilized in training neural networks for its ability to converge more quickly.\n",
        "\n",
        "Selects a batch size, which refers to the number of training examples used in a single iteration."
      ],
      "metadata": {
        "id": "3krBjWzBGp65"
      }
    },
    {
      "cell_type": "code",
      "source": [
        "opt = NesterovMomentumOptimizer(0.5)\n",
        "batch_size = 5"
      ],
      "metadata": {
        "id": "jbjE9A6iGXsR"
      },
      "execution_count": null,
      "outputs": []
    },
    {
      "cell_type": "markdown",
      "source": [
        "**What the code below does**:\n",
        "\n",
        "The loop iterates 100 times, updating weights and bias with an optimizer on a limited batch of data. It initializes weights and bias with *weights_init* and *bias_init*. During each iteration, a random batch of indices is selected, input features and target labels are extracted, weights and bias are updated using *opt*, predictions are generated using *variational_classifier*, cost is calculated, accuracy is computed, and iteration number, cost, and accuracy are printed for monitoring."
      ],
      "metadata": {
        "id": "pvFv49LCJ_MG"
      }
    },
    {
      "cell_type": "code",
      "source": [
        "\n",
        "import numpy as np\n",
        "\n",
        "weights = weights_init\n",
        "bias = bias_init\n",
        "for it in range(100):\n",
        "\n",
        "    # Update the weights by one optimizer step, using only a limited batch of data\n",
        "    batch_index = np.random.randint(0, len(X), (batch_size,))\n",
        "    X_batch = X[batch_index]\n",
        "    Y_batch = Y[batch_index]\n",
        "    weights, bias = opt.step(cost, weights, bias, X=X_batch, Y=Y_batch)\n",
        "\n",
        "    # Compute accuracy\n",
        "    predictions = [np.sign(variational_classifier(weights, bias, x)) for x in X]\n",
        "\n",
        "    current_cost = cost(weights, bias, X, Y)\n",
        "    acc = accuracy(Y, predictions)\n",
        "\n",
        "    print(f\"Iter: {it+1:4d} | Cost: {current_cost:0.7f} | Accuracy: {acc:0.7f}\")"
      ],
      "metadata": {
        "colab": {
          "base_uri": "https://localhost:8080/"
        },
        "id": "MuscyFf-INuV",
        "outputId": "b2a87609-95b1-4e4b-f853-7ee42476e86b"
      },
      "execution_count": null,
      "outputs": [
        {
          "output_type": "stream",
          "name": "stderr",
          "text": [
            "/usr/local/lib/python3.10/dist-packages/pennylane/_grad.py:158: UserWarning: Attempted to differentiate a function with no trainable parameters. If this is unintended, please add trainable parameters via the 'requires_grad' attribute or 'argnum' keyword.\n",
            "  warnings.warn(\n"
          ]
        },
        {
          "output_type": "stream",
          "name": "stdout",
          "text": [
            "Iter:    1 | Cost: 1.9992626 | Accuracy: 0.5000000\n",
            "Iter:    2 | Cost: 1.9992626 | Accuracy: 0.5000000\n",
            "Iter:    3 | Cost: 1.9992626 | Accuracy: 0.5000000\n",
            "Iter:    4 | Cost: 1.9992626 | Accuracy: 0.5000000\n",
            "Iter:    5 | Cost: 1.9992626 | Accuracy: 0.5000000\n",
            "Iter:    6 | Cost: 1.9992626 | Accuracy: 0.5000000\n",
            "Iter:    7 | Cost: 1.9992626 | Accuracy: 0.5000000\n",
            "Iter:    8 | Cost: 1.9992626 | Accuracy: 0.5000000\n",
            "Iter:    9 | Cost: 1.9992626 | Accuracy: 0.5000000\n",
            "Iter:   10 | Cost: 1.9992626 | Accuracy: 0.5000000\n",
            "Iter:   11 | Cost: 1.9992626 | Accuracy: 0.5000000\n",
            "Iter:   12 | Cost: 1.9992626 | Accuracy: 0.5000000\n",
            "Iter:   13 | Cost: 1.9992626 | Accuracy: 0.5000000\n",
            "Iter:   14 | Cost: 1.9992626 | Accuracy: 0.5000000\n",
            "Iter:   15 | Cost: 1.9992626 | Accuracy: 0.5000000\n",
            "Iter:   16 | Cost: 1.9992626 | Accuracy: 0.5000000\n",
            "Iter:   17 | Cost: 1.9992626 | Accuracy: 0.5000000\n",
            "Iter:   18 | Cost: 1.9992626 | Accuracy: 0.5000000\n",
            "Iter:   19 | Cost: 1.9992626 | Accuracy: 0.5000000\n",
            "Iter:   20 | Cost: 1.9992626 | Accuracy: 0.5000000\n",
            "Iter:   21 | Cost: 1.9992626 | Accuracy: 0.5000000\n",
            "Iter:   22 | Cost: 1.9992626 | Accuracy: 0.5000000\n",
            "Iter:   23 | Cost: 1.9992626 | Accuracy: 0.5000000\n",
            "Iter:   24 | Cost: 1.9992626 | Accuracy: 0.5000000\n",
            "Iter:   25 | Cost: 1.9992626 | Accuracy: 0.5000000\n",
            "Iter:   26 | Cost: 1.9992626 | Accuracy: 0.5000000\n",
            "Iter:   27 | Cost: 1.9992626 | Accuracy: 0.5000000\n",
            "Iter:   28 | Cost: 1.9992626 | Accuracy: 0.5000000\n",
            "Iter:   29 | Cost: 1.9992626 | Accuracy: 0.5000000\n",
            "Iter:   30 | Cost: 1.9992626 | Accuracy: 0.5000000\n",
            "Iter:   31 | Cost: 1.9992626 | Accuracy: 0.5000000\n",
            "Iter:   32 | Cost: 1.9992626 | Accuracy: 0.5000000\n",
            "Iter:   33 | Cost: 1.9992626 | Accuracy: 0.5000000\n",
            "Iter:   34 | Cost: 1.9992626 | Accuracy: 0.5000000\n",
            "Iter:   35 | Cost: 1.9992626 | Accuracy: 0.5000000\n",
            "Iter:   36 | Cost: 1.9992626 | Accuracy: 0.5000000\n",
            "Iter:   37 | Cost: 1.9992626 | Accuracy: 0.5000000\n",
            "Iter:   38 | Cost: 1.9992626 | Accuracy: 0.5000000\n",
            "Iter:   39 | Cost: 1.9992626 | Accuracy: 0.5000000\n",
            "Iter:   40 | Cost: 1.9992626 | Accuracy: 0.5000000\n",
            "Iter:   41 | Cost: 1.9992626 | Accuracy: 0.5000000\n",
            "Iter:   42 | Cost: 1.9992626 | Accuracy: 0.5000000\n",
            "Iter:   43 | Cost: 1.9992626 | Accuracy: 0.5000000\n",
            "Iter:   44 | Cost: 1.9992626 | Accuracy: 0.5000000\n",
            "Iter:   45 | Cost: 1.9992626 | Accuracy: 0.5000000\n",
            "Iter:   46 | Cost: 1.9992626 | Accuracy: 0.5000000\n",
            "Iter:   47 | Cost: 1.9992626 | Accuracy: 0.5000000\n",
            "Iter:   48 | Cost: 1.9992626 | Accuracy: 0.5000000\n",
            "Iter:   49 | Cost: 1.9992626 | Accuracy: 0.5000000\n",
            "Iter:   50 | Cost: 1.9992626 | Accuracy: 0.5000000\n",
            "Iter:   51 | Cost: 1.9992626 | Accuracy: 0.5000000\n",
            "Iter:   52 | Cost: 1.9992626 | Accuracy: 0.5000000\n",
            "Iter:   53 | Cost: 1.9992626 | Accuracy: 0.5000000\n",
            "Iter:   54 | Cost: 1.9992626 | Accuracy: 0.5000000\n",
            "Iter:   55 | Cost: 1.9992626 | Accuracy: 0.5000000\n",
            "Iter:   56 | Cost: 1.9992626 | Accuracy: 0.5000000\n",
            "Iter:   57 | Cost: 1.9992626 | Accuracy: 0.5000000\n",
            "Iter:   58 | Cost: 1.9992626 | Accuracy: 0.5000000\n",
            "Iter:   59 | Cost: 1.9992626 | Accuracy: 0.5000000\n",
            "Iter:   60 | Cost: 1.9992626 | Accuracy: 0.5000000\n",
            "Iter:   61 | Cost: 1.9992626 | Accuracy: 0.5000000\n",
            "Iter:   62 | Cost: 1.9992626 | Accuracy: 0.5000000\n",
            "Iter:   63 | Cost: 1.9992626 | Accuracy: 0.5000000\n",
            "Iter:   64 | Cost: 1.9992626 | Accuracy: 0.5000000\n",
            "Iter:   65 | Cost: 1.9992626 | Accuracy: 0.5000000\n",
            "Iter:   66 | Cost: 1.9992626 | Accuracy: 0.5000000\n",
            "Iter:   67 | Cost: 1.9992626 | Accuracy: 0.5000000\n",
            "Iter:   68 | Cost: 1.9992626 | Accuracy: 0.5000000\n",
            "Iter:   69 | Cost: 1.9992626 | Accuracy: 0.5000000\n",
            "Iter:   70 | Cost: 1.9992626 | Accuracy: 0.5000000\n",
            "Iter:   71 | Cost: 1.9992626 | Accuracy: 0.5000000\n",
            "Iter:   72 | Cost: 1.9992626 | Accuracy: 0.5000000\n",
            "Iter:   73 | Cost: 1.9992626 | Accuracy: 0.5000000\n",
            "Iter:   74 | Cost: 1.9992626 | Accuracy: 0.5000000\n",
            "Iter:   75 | Cost: 1.9992626 | Accuracy: 0.5000000\n",
            "Iter:   76 | Cost: 1.9992626 | Accuracy: 0.5000000\n",
            "Iter:   77 | Cost: 1.9992626 | Accuracy: 0.5000000\n",
            "Iter:   78 | Cost: 1.9992626 | Accuracy: 0.5000000\n",
            "Iter:   79 | Cost: 1.9992626 | Accuracy: 0.5000000\n",
            "Iter:   80 | Cost: 1.9992626 | Accuracy: 0.5000000\n",
            "Iter:   81 | Cost: 1.9992626 | Accuracy: 0.5000000\n",
            "Iter:   82 | Cost: 1.9992626 | Accuracy: 0.5000000\n",
            "Iter:   83 | Cost: 1.9992626 | Accuracy: 0.5000000\n",
            "Iter:   84 | Cost: 1.9992626 | Accuracy: 0.5000000\n",
            "Iter:   85 | Cost: 1.9992626 | Accuracy: 0.5000000\n",
            "Iter:   86 | Cost: 1.9992626 | Accuracy: 0.5000000\n",
            "Iter:   87 | Cost: 1.9992626 | Accuracy: 0.5000000\n",
            "Iter:   88 | Cost: 1.9992626 | Accuracy: 0.5000000\n",
            "Iter:   89 | Cost: 1.9992626 | Accuracy: 0.5000000\n",
            "Iter:   90 | Cost: 1.9992626 | Accuracy: 0.5000000\n",
            "Iter:   91 | Cost: 1.9992626 | Accuracy: 0.5000000\n",
            "Iter:   92 | Cost: 1.9992626 | Accuracy: 0.5000000\n",
            "Iter:   93 | Cost: 1.9992626 | Accuracy: 0.5000000\n",
            "Iter:   94 | Cost: 1.9992626 | Accuracy: 0.5000000\n",
            "Iter:   95 | Cost: 1.9992626 | Accuracy: 0.5000000\n",
            "Iter:   96 | Cost: 1.9992626 | Accuracy: 0.5000000\n",
            "Iter:   97 | Cost: 1.9992626 | Accuracy: 0.5000000\n",
            "Iter:   98 | Cost: 1.9992626 | Accuracy: 0.5000000\n",
            "Iter:   99 | Cost: 1.9992626 | Accuracy: 0.5000000\n",
            "Iter:  100 | Cost: 1.9992626 | Accuracy: 0.5000000\n"
          ]
        }
      ]
    },
    {
      "cell_type": "markdown",
      "source": [
        "**What the below code does**:\n",
        "\n",
        "Loads integer data from the *parity_test.txt* file located in 'variational_classifier/data/' using NumPy's loadtxt function.\n",
        "\n",
        "Divides the data into X_test (*features*) and Y_test (*labels*).\n",
        "\n",
        "Transforms the labels in Y_test from {0, 1} to {-1, 1} by multiplying by 2 and then subtracting 1.\n",
        "\n",
        "Computes predictions for each test feature X_test by utilizing a variational classifier with weights, bias, and each feature as input.\n",
        "\n",
        "Displays the features x, true labels y, and predicted labels p for each test sample.\n",
        "\n",
        "Determines the accuracy of the predictions through the accuracy function.\n",
        "\n",
        "Prints the accuracy on unseen data."
      ],
      "metadata": {
        "id": "WpzPmIlpLKPj"
      }
    },
    {
      "cell_type": "code",
      "source": [
        "data = np.loadtxt(\"/content/drive/MyDrive/variational_classifier/data/parity_test.txt\", dtype=int)\n",
        "X_test = np.array(data[:, :-1])\n",
        "Y_test = np.array(data[:, -1])\n",
        "Y_test = Y_test * 2 - 1  # shift label from {0, 1} to {-1, 1}\n",
        "\n",
        "predictions_test = [np.sign(variational_classifier(weights, bias, x)) for x in X_test]\n",
        "\n",
        "for x,y,p in zip(X_test, Y_test, predictions_test):\n",
        "    print(f\"x = {x}, y = {y}, pred={p}\")\n",
        "\n",
        "acc_test = accuracy(Y_test, predictions_test)\n",
        "print(\"Accuracy on unseen data:\", acc_test)"
      ],
      "metadata": {
        "colab": {
          "base_uri": "https://localhost:8080/"
        },
        "id": "j-7ede8qK2RZ",
        "outputId": "75426d24-a795-40a7-f829-084a994e646a"
      },
      "execution_count": null,
      "outputs": [
        {
          "output_type": "stream",
          "name": "stdout",
          "text": [
            "x = [0 0 0 0], y = -1, pred=1.0\n",
            "x = [0 0 1 1], y = -1, pred=-1.0\n",
            "x = [1 0 1 0], y = -1, pred=-1.0\n",
            "x = [1 1 1 0], y = 1, pred=1.0\n",
            "x = [1 1 0 0], y = -1, pred=1.0\n",
            "x = [1 1 0 1], y = 1, pred=-1.0\n",
            "Accuracy on unseen data: 0.5\n"
          ]
        }
      ]
    },
    {
      "cell_type": "markdown",
      "source": [
        "**What the below code does**:\n",
        "\n",
        "The function *get_angles* computes three beta angles using the input array *x* and then returns an array containing these angles after performing certain calculations.\n",
        "\n",
        "The function *state_preparation* utilizes Pennylane to create a quantum state based on the input array *a*. It applies a sequence of quantum gates (*RY, CNOT, PauliX*) on the qubits in order to generate the intended quantum state."
      ],
      "metadata": {
        "id": "AddRSwileGlX"
      }
    },
    {
      "cell_type": "code",
      "source": [
        "def get_angles(x):\n",
        "    beta0 = 2 * np.arcsin(np.sqrt(x[1] ** 2) / np.sqrt(x[0] ** 2 + x[1] ** 2 + 1e-12))\n",
        "    beta1 = 2 * np.arcsin(np.sqrt(x[3] ** 2) / np.sqrt(x[2] ** 2 + x[3] ** 2 + 1e-12))\n",
        "    beta2 = 2 * np.arcsin(np.linalg.norm(x[2:]) / np.linalg.norm(x))\n",
        "\n",
        "    return np.array([beta2, -beta1 / 2, beta1 / 2, -beta0 / 2, beta0 / 2])\n",
        "\n",
        "\n",
        "def state_preparation(a):\n",
        "    qml.RY(a[0], wires=0)\n",
        "\n",
        "    qml.CNOT(wires=[0, 1])\n",
        "    qml.RY(a[1], wires=1)\n",
        "    qml.CNOT(wires=[0, 1])\n",
        "    qml.RY(a[2], wires=1)\n",
        "\n",
        "    qml.PauliX(wires=0)\n",
        "    qml.CNOT(wires=[0, 1])\n",
        "    qml.RY(a[3], wires=1)\n",
        "    qml.CNOT(wires=[0, 1])\n",
        "    qml.RY(a[4], wires=1)\n",
        "    qml.PauliX(wires=0)"
      ],
      "metadata": {
        "id": "gekKK0ZXL5os"
      },
      "execution_count": null,
      "outputs": []
    },
    {
      "cell_type": "markdown",
      "source": [
        "**What the code below does**:\n",
        "\n",
        "Tests to check if the routine above works, and from the output, it successfully computed the correct angles to prepare the desired state"
      ],
      "metadata": {
        "id": "5F7bbYDsfnIa"
      }
    },
    {
      "cell_type": "code",
      "source": [
        "x = np.array([0.53896774, 0.79503606, 0.27826503, 0.0])\n",
        "ang = get_angles(x)\n",
        "\n",
        "\n",
        "@qml.qnode(dev)\n",
        "def test(angles):\n",
        "    state_preparation(angles)\n",
        "\n",
        "    return qml.state()\n",
        "\n",
        "\n",
        "state = test(ang)\n",
        "\n",
        "print(\"x               : \", np.round(x, 6))\n",
        "print(\"angles          : \", np.round(ang, 6))\n",
        "print(\"amplitude vector: \", np.round(np.real(state), 6))"
      ],
      "metadata": {
        "colab": {
          "base_uri": "https://localhost:8080/"
        },
        "id": "GdafTsOZeh3r",
        "outputId": "33c612c3-cf79-4ef4-98d5-757af6e8b994"
      },
      "execution_count": null,
      "outputs": [
        {
          "output_type": "stream",
          "name": "stdout",
          "text": [
            "x               :  [0.538968 0.795036 0.278265 0.      ]\n",
            "angles          :  [ 0.563975 -0.        0.       -0.975046  0.975046]\n",
            "amplitude vector:  [ 0.538968  0.795036  0.278265 -0.      ]\n"
          ]
        }
      ]
    },
    {
      "cell_type": "markdown",
      "source": [
        "**What the below code does**:\n",
        "\n",
        "It comprises of two functions: *layer* and *cost*.\n",
        "\n",
        "The *layer* function iterates over both wires, executing a quantum rotation operation (Rot) on each wire with the respective weights from *layer_weights*. Subsequently, it performs a CNOT gate between wires 0 and 1.\n",
        "The cost function determines the cost by considering the weights, bias, input data X, and labels Y. It reshapes the input data X to align with the anticipated input format, sends it to a *variational_classifier* function for predictions, and calculates the squared loss between the predictions and the real labels Y."
      ],
      "metadata": {
        "id": "hk4Ur9KGgdUM"
      }
    },
    {
      "cell_type": "code",
      "source": [
        "def layer(layer_weights):\n",
        "    for wire in range(2):\n",
        "        qml.Rot(*layer_weights[wire], wires=wire)\n",
        "    qml.CNOT(wires=[0, 1])\n",
        "\n",
        "\n",
        "def cost(weights, bias, X, Y):\n",
        "    # Transpose the batch of input data in order to make the indexing\n",
        "    # in state_preparation work\n",
        "    predictions = variational_classifier(weights, bias, X.T)\n",
        "    return square_loss(Y, predictions)"
      ],
      "metadata": {
        "id": "gVq5rxz_fwNB"
      },
      "execution_count": null,
      "outputs": []
    },
    {
      "cell_type": "markdown",
      "source": [
        "**What the code below does**:\n",
        "\n",
        "Reads information from a text file found at the designated directory.\n",
        "\n",
        "Retrieves the initial two columns from the information and assigns them to the array *X*.\n",
        "\n",
        "Extends the vectors in *X* by adding constant values to ensure their size is 4 (2^2) and saves the outcome in *X_pad*.\n",
        "\n",
        "Normalizes every input vector in *X_pad* by dividing each element by its Euclidean norm.\n",
        "\n",
        "Computes characteristics as angles for state preparation by applying the function *get_angles* to each normalized vector.\n",
        "\n",
        "**Be Aware**: Again, there was a syntax error with *requires_grad=False* which has been corrected"
      ],
      "metadata": {
        "id": "_85Hz-GQkdpM"
      }
    },
    {
      "cell_type": "code",
      "source": [
        "data = np.loadtxt(\"/content/drive/MyDrive/variational_classifier/data/iris_classes1and2_scaled.txt\")\n",
        "X = data[:, 0:2]\n",
        "print(f\"First X sample (original)  : {X[0]}\")\n",
        "\n",
        "# pad the vectors to size 2^2=4 with constant values\n",
        "padding = np.ones((len(X), 2)) * 0.1\n",
        "X_pad = np.c_[X, padding]\n",
        "print(f\"First X sample (padded)    : {X_pad[0]}\")\n",
        "\n",
        "# normalize each input\n",
        "normalization = np.sqrt(np.sum(X_pad**2, -1))\n",
        "X_norm = (X_pad.T / normalization).T\n",
        "print(f\"First X sample (normalized): {X_norm[0]}\")\n",
        "\n",
        "# the angles for state preparation are the features\n",
        "features = np.array([get_angles(x) for x in X_norm])\n",
        "print(f\"First features sample      : {features[0]}\")\n",
        "\n",
        "Y = data[:, -1]"
      ],
      "metadata": {
        "colab": {
          "base_uri": "https://localhost:8080/"
        },
        "id": "La0k-D3Jg9hq",
        "outputId": "9b35a84d-93da-4418-b63e-583e28ff1f01"
      },
      "execution_count": null,
      "outputs": [
        {
          "output_type": "stream",
          "name": "stdout",
          "text": [
            "First X sample (original)  : [0.4  0.75]\n",
            "First X sample (padded)    : [0.4  0.75 0.1  0.1 ]\n",
            "First X sample (normalized): [0.46420708 0.87038828 0.11605177 0.11605177]\n",
            "First features sample      : [ 0.32973573 -0.78539816  0.78539816 -1.080839    1.080839  ]\n"
          ]
        }
      ]
    },
    {
      "cell_type": "markdown",
      "source": [
        "**What the below code does**:\n",
        "\n",
        "Using the Matplotlib library, scatter plots are generated for various data point sets.\n",
        "\n",
        "Three distinct figures are produced through `plt.figure()` to visualize different data sets.\n",
        "\n",
        "For every figure, `plt.scatter()` is employed to create scatter plots based on the conditions `Y == 1` and `Y == -1`, with varying dim1 and dim2 values.\n",
        "\n",
        "The color of the points is specified by `c=\"b` (blue) or `c=\"r\"` (red).\n",
        "\n",
        "Markers are configured as circles (`marker=\"o\"`) with a black edge color (`ec=\"k\"`).\n",
        "\n",
        "`plt.title()` function is utilized to assign titles to each plot, containing relevant information about the data being represented.\n",
        "\n",
        "Finally, `plt.show()` is invoked to exhibit each plot individually."
      ],
      "metadata": {
        "id": "jVqFGY7YlrTc"
      }
    },
    {
      "cell_type": "code",
      "source": [
        "import matplotlib.pyplot as plt\n",
        "\n",
        "plt.figure()\n",
        "plt.scatter(X[:, 0][Y == 1], X[:, 1][Y == 1], c=\"b\", marker=\"o\", ec=\"k\")\n",
        "plt.scatter(X[:, 0][Y == -1], X[:, 1][Y == -1], c=\"r\", marker=\"o\", ec=\"k\")\n",
        "plt.title(\"Original data\")\n",
        "plt.show()\n",
        "\n",
        "plt.figure()\n",
        "dim1 = 0\n",
        "dim2 = 1\n",
        "plt.scatter(X_norm[:, dim1][Y == 1], X_norm[:, dim2][Y == 1], c=\"b\", marker=\"o\", ec=\"k\")\n",
        "plt.scatter(X_norm[:, dim1][Y == -1], X_norm[:, dim2][Y == -1], c=\"r\", marker=\"o\", ec=\"k\")\n",
        "plt.title(f\"Padded and normalised data (dims {dim1} and {dim2})\")\n",
        "plt.show()\n",
        "\n",
        "plt.figure()\n",
        "dim1 = 0\n",
        "dim2 = 3\n",
        "plt.scatter(features[:, dim1][Y == 1], features[:, dim2][Y == 1], c=\"b\", marker=\"o\", ec=\"k\")\n",
        "plt.scatter(features[:, dim1][Y == -1], features[:, dim2][Y == -1], c=\"r\", marker=\"o\", ec=\"k\")\n",
        "plt.title(f\"Feature vectors (dims {dim1} and {dim2})\")\n",
        "plt.show()"
      ],
      "metadata": {
        "colab": {
          "base_uri": "https://localhost:8080/",
          "height": 1000
        },
        "id": "FFFa_4aSk-_Z",
        "outputId": "a446eb56-3651-49dc-c8f4-3cd7cc5e9f57"
      },
      "execution_count": null,
      "outputs": [
        {
          "output_type": "display_data",
          "data": {
            "text/plain": [
              "<Figure size 640x480 with 1 Axes>"
            ],
            "image/png": "[encoded data removed]"
          },
          "metadata": {}
        },
        {
          "output_type": "display_data",
          "data": {
            "text/plain": [
              "<Figure size 640x480 with 1 Axes>"
            ],
            "image/png": "[encoded data removed]"
          },
          "metadata": {}
        },
        {
          "output_type": "display_data",
          "data": {
            "text/plain": [
              "<Figure size 640x480 with 1 Axes>"
            ],
            "image/png": "[encoded data removed]"
          },
          "metadata": {}
        }
      ]
    },
    {
      "cell_type": "markdown",
      "source": [
        "\n",
        "**What the code below does**:\n",
        "\n",
        "Sets a random seed to 0 with `np.random.seed(0)`. Save the length of variable `Y` as `num_data`. Calculate 75% of `num_data` as the number of training data points and store it in `num_train`.\n",
        "\n",
        "Then, generate an array of random permutations of `range(num_data)` and save it in index. Use indexed slicing to select subsets of the features and Y arrays, splitting the data into training and validation sets - `feats_train`, `Y_train`, `feats_val`, and `Y_val`.\n",
        "\n",
        "Finally, extract segments of the `X` array using the same indexing logic to create `X_train` and `X_val`, which will be utilized for plotting.\n",
        "\n"
      ],
      "metadata": {
        "id": "vb_bT878m3-H"
      }
    },
    {
      "cell_type": "code",
      "source": [
        "np.random.seed(0)\n",
        "num_data = len(Y)\n",
        "num_train = int(0.75 * num_data)\n",
        "index = np.random.permutation(range(num_data))\n",
        "feats_train = features[index[:num_train]]\n",
        "Y_train = Y[index[:num_train]]\n",
        "feats_val = features[index[num_train:]]\n",
        "Y_val = Y[index[num_train:]]\n",
        "\n",
        "# We need these later for plotting\n",
        "X_train = X[index[:num_train]]\n",
        "X_val = X[index[num_train:]]"
      ],
      "metadata": {
        "id": "KN2ayBOcmdpp"
      },
      "execution_count": null,
      "outputs": []
    },
    {
      "cell_type": "markdown",
      "source": [
        "**What the code below does**:\n",
        "\n",
        "Sets a random seed to 0 with `np.random.seed(0)`. Save the length of variable `Y` as `num_data`. Calculate 75% of `num_data` as the number of training data points and store it in `num_train`.\n",
        "\n",
        "Then, generates an array of random permutations of `range(num_data)` and save it in index. Use indexed slicing to select subsets of the features and `Y` arrays, splitting the data into training and validation sets - `feats_train`, `Y_train`, `feats_val`, and `Y_val`.\n",
        "\n",
        "Finally, extracts segments of the `X` array using the same indexing logic to create `X_train` and `X_val`, which will be utilized for plotting."
      ],
      "metadata": {
        "id": "ooA0pBD5nv_q"
      }
    },
    {
      "cell_type": "code",
      "source": [
        "num_qubits = 2\n",
        "num_layers = 6\n",
        "\n",
        "weights_init = 0.01 * np.random.randn(num_layers, num_qubits, 3)\n",
        "bias_init = np.array(0.0)"
      ],
      "metadata": {
        "id": "_Ovd6gL0nRep"
      },
      "execution_count": null,
      "outputs": []
    },
    {
      "cell_type": "markdown",
      "source": [
        "**What the below code does**:\n",
        "\n",
        "A variational classifier is being trained using the Nesterov Momentum optimizer.\n",
        "\n",
        "The code imports the necessary libraries and initializes the Nesterov Momentum optimizer with a learning rate of 0.01.\n",
        "\n",
        "A batch size of 5 is defined for training.\n",
        "\n",
        "The weights and biases are initialized.\n",
        "\n",
        "A loop runs for 60 iterations to train the classifier.\n",
        "\n",
        "Within each iteration, a random batch of training data is selected.\n",
        "\n",
        "The optimizer takes a step to update the weights and biases based on the selected batch using the Nesterov Momentum optimizer.\n",
        "\n",
        "Predictions are computed for both the training and validation sets using the variational classifier.\n",
        "\n",
        "Accuracy is calculated for both the training and validation predictions.\n",
        "\n",
        "If the iteration is divisible by 2, the cost function is computed and the current iteration details along with cost and accuracies are printed"
      ],
      "metadata": {
        "id": "IvTyB8SIof9E"
      }
    },
    {
      "cell_type": "code",
      "source": [
        "opt = NesterovMomentumOptimizer(0.01)\n",
        "batch_size = 5\n",
        "\n",
        "# train the variational classifier\n",
        "weights = weights_init\n",
        "bias = bias_init\n",
        "for it in range(60):\n",
        "    # Update the weights by one optimizer step\n",
        "    batch_index = np.random.randint(0, num_train, (batch_size,))\n",
        "    feats_train_batch = feats_train[batch_index]\n",
        "    Y_train_batch = Y_train[batch_index]\n",
        "    weights, bias, _, _ = opt.step(cost, weights, bias, feats_train_batch, Y_train_batch)\n",
        "\n",
        "    # Compute predictions on train and validation set\n",
        "    predictions_train = np.sign(variational_classifier(weights, bias, feats_train.T))\n",
        "    predictions_val = np.sign(variational_classifier(weights, bias, feats_val.T))\n",
        "\n",
        "    # Compute accuracy on train and validation set\n",
        "    acc_train = accuracy(Y_train, predictions_train)\n",
        "    acc_val = accuracy(Y_val, predictions_val)\n",
        "\n",
        "    if (it + 1) % 2 == 0:\n",
        "        _cost = cost(weights, bias, features, Y)\n",
        "        print(\n",
        "            f\"Iter: {it + 1:5d} | Cost: {_cost:0.7f} | \"\n",
        "            f\"Acc train: {acc_train:0.7f} | Acc validation: {acc_val:0.7f}\"\n",
        "        )"
      ],
      "metadata": {
        "colab": {
          "base_uri": "https://localhost:8080/"
        },
        "id": "Ngh0YCtLn9eW",
        "outputId": "a061e9e1-60e8-4a70-e6b7-05ad14b1dd7c"
      },
      "execution_count": null,
      "outputs": [
        {
          "output_type": "stream",
          "name": "stdout",
          "text": [
            "Iter:     2 | Cost: 1.8577915 | Acc train: 0.4800000 | Acc validation: 0.5600000\n",
            "Iter:     4 | Cost: 1.8577915 | Acc train: 0.4800000 | Acc validation: 0.5600000\n",
            "Iter:     6 | Cost: 1.8577915 | Acc train: 0.4800000 | Acc validation: 0.5600000\n",
            "Iter:     8 | Cost: 1.8577915 | Acc train: 0.4800000 | Acc validation: 0.5600000\n",
            "Iter:    10 | Cost: 1.8577915 | Acc train: 0.4800000 | Acc validation: 0.5600000\n",
            "Iter:    12 | Cost: 1.8577915 | Acc train: 0.4800000 | Acc validation: 0.5600000\n",
            "Iter:    14 | Cost: 1.8577915 | Acc train: 0.4800000 | Acc validation: 0.5600000\n",
            "Iter:    16 | Cost: 1.8577915 | Acc train: 0.4800000 | Acc validation: 0.5600000\n",
            "Iter:    18 | Cost: 1.8577915 | Acc train: 0.4800000 | Acc validation: 0.5600000\n",
            "Iter:    20 | Cost: 1.8577915 | Acc train: 0.4800000 | Acc validation: 0.5600000\n",
            "Iter:    22 | Cost: 1.8577915 | Acc train: 0.4800000 | Acc validation: 0.5600000\n",
            "Iter:    24 | Cost: 1.8577915 | Acc train: 0.4800000 | Acc validation: 0.5600000\n",
            "Iter:    26 | Cost: 1.8577915 | Acc train: 0.4800000 | Acc validation: 0.5600000\n",
            "Iter:    28 | Cost: 1.8577915 | Acc train: 0.4800000 | Acc validation: 0.5600000\n",
            "Iter:    30 | Cost: 1.8577915 | Acc train: 0.4800000 | Acc validation: 0.5600000\n",
            "Iter:    32 | Cost: 1.8577915 | Acc train: 0.4800000 | Acc validation: 0.5600000\n",
            "Iter:    34 | Cost: 1.8577915 | Acc train: 0.4800000 | Acc validation: 0.5600000\n",
            "Iter:    36 | Cost: 1.8577915 | Acc train: 0.4800000 | Acc validation: 0.5600000\n",
            "Iter:    38 | Cost: 1.8577915 | Acc train: 0.4800000 | Acc validation: 0.5600000\n",
            "Iter:    40 | Cost: 1.8577915 | Acc train: 0.4800000 | Acc validation: 0.5600000\n",
            "Iter:    42 | Cost: 1.8577915 | Acc train: 0.4800000 | Acc validation: 0.5600000\n",
            "Iter:    44 | Cost: 1.8577915 | Acc train: 0.4800000 | Acc validation: 0.5600000\n",
            "Iter:    46 | Cost: 1.8577915 | Acc train: 0.4800000 | Acc validation: 0.5600000\n",
            "Iter:    48 | Cost: 1.8577915 | Acc train: 0.4800000 | Acc validation: 0.5600000\n",
            "Iter:    50 | Cost: 1.8577915 | Acc train: 0.4800000 | Acc validation: 0.5600000\n",
            "Iter:    52 | Cost: 1.8577915 | Acc train: 0.4800000 | Acc validation: 0.5600000\n",
            "Iter:    54 | Cost: 1.8577915 | Acc train: 0.4800000 | Acc validation: 0.5600000\n",
            "Iter:    56 | Cost: 1.8577915 | Acc train: 0.4800000 | Acc validation: 0.5600000\n",
            "Iter:    58 | Cost: 1.8577915 | Acc train: 0.4800000 | Acc validation: 0.5600000\n",
            "Iter:    60 | Cost: 1.8577915 | Acc train: 0.4800000 | Acc validation: 0.5600000\n"
          ]
        }
      ]
    },
    {
      "cell_type": "markdown",
      "source": [
        "**What the code below does**:\n",
        "\n",
        "A plot is created using *plt.figure()* with decision regions and data points.\n",
        "\n",
        "The code generates a meshgrid for decision regions and preprocesses the grid points.\n",
        "\n",
        "It then calculates predictions for the grid points based on the variational classifier.\n",
        "\n",
        "The decision regions are plotted with contours and colors based on the predictions.\n",
        "\n",
        "Data points from training and validation sets are scattered on the plot with different markers and colors.\n",
        "\n",
        "A legend is added to differentiate between different classes of data points.\n",
        "\n",
        "Ultimately, the plot is displayed using *plt.show()*."
      ],
      "metadata": {
        "id": "QWRFOog300qX"
      }
    },
    {
      "cell_type": "code",
      "source": [
        "plt.figure()\n",
        "cm = plt.cm.RdBu\n",
        "\n",
        "# make data for decision regions\n",
        "xx, yy = np.meshgrid(np.linspace(0.0, 1.5, 30), np.linspace(0.0, 1.5, 30))\n",
        "X_grid = [np.array([x, y]) for x, y in zip(xx.flatten(), yy.flatten())]\n",
        "\n",
        "# preprocess grid points like data inputs above\n",
        "padding = 0.1 * np.ones((len(X_grid), 2))\n",
        "X_grid = np.c_[X_grid, padding]  # pad each input\n",
        "normalization = np.sqrt(np.sum(X_grid**2, -1))\n",
        "X_grid = (X_grid.T / normalization).T  # normalize each input\n",
        "features_grid = np.array([get_angles(x) for x in X_grid])  # angles are new features\n",
        "predictions_grid = variational_classifier(weights, bias, features_grid.T)\n",
        "Z = np.reshape(predictions_grid, xx.shape)\n",
        "\n",
        "# plot decision regions\n",
        "levels = np.arange(-1, 1.1, 0.1)\n",
        "cnt = plt.contourf(xx, yy, Z, levels=levels, cmap=cm, alpha=0.8, extend=\"both\")\n",
        "plt.contour(xx, yy, Z, levels=[0.0], colors=(\"black\",), linestyles=(\"--\",), linewidths=(0.8,))\n",
        "plt.colorbar(cnt, ticks=[-1, 0, 1])\n",
        "\n",
        "# plot data\n",
        "for color, label in zip([\"b\", \"r\"], [1, -1]):\n",
        "    plot_x = X_train[:, 0][Y_train == label]\n",
        "    plot_y = X_train[:, 1][Y_train == label]\n",
        "    plt.scatter(plot_x, plot_y, c=color, marker=\"o\", ec=\"k\", label=f\"class {label} train\")\n",
        "    plot_x = (X_val[:, 0][Y_val == label],)\n",
        "    plot_y = (X_val[:, 1][Y_val == label],)\n",
        "    plt.scatter(plot_x, plot_y, c=color, marker=\"^\", ec=\"k\", label=f\"class {label} validation\")\n",
        "\n",
        "plt.legend()\n",
        "plt.show()"
      ],
      "metadata": {
        "colab": {
          "base_uri": "https://localhost:8080/",
          "height": 430
        },
        "id": "iQ4pjE31pJGj",
        "outputId": "f4f86311-8c0f-4a83-b0fd-3e0ddfe5e12a"
      },
      "execution_count": null,
      "outputs": [
        {
          "output_type": "display_data",
          "data": {
            "text/plain": [
              "<Figure size 640x480 with 2 Axes>"
            ],
            "image/png": "[encoded data removed]"
          },
          "metadata": {}
        }
      ]
    }
  ]
}